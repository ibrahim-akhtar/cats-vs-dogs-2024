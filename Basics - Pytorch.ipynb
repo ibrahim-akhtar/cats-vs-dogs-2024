{
 "cells": [
  {
   "cell_type": "markdown",
   "id": "bee215dc-4c66-4c1e-b8c6-92593edcd8ab",
   "metadata": {
    "jp-MarkdownHeadingCollapsed": true
   },
   "source": [
    "### Video 1/8"
   ]
  },
  {
   "cell_type": "code",
   "execution_count": 1,
   "id": "651e4ae0-c449-4d98-a1eb-76056dfeff60",
   "metadata": {},
   "outputs": [],
   "source": [
    "import pandas as pd\n",
    "import torch"
   ]
  },
  {
   "cell_type": "code",
   "execution_count": 2,
   "id": "0357823f-9e88-4719-838e-6bd3f774a558",
   "metadata": {},
   "outputs": [],
   "source": [
    "import numpy as np"
   ]
  },
  {
   "cell_type": "code",
   "execution_count": 3,
   "id": "05dbbc8e-85f0-4585-a412-413f6b24df78",
   "metadata": {},
   "outputs": [
    {
     "name": "stdout",
     "output_type": "stream",
     "text": [
      "tensor([10.,  3.])\n"
     ]
    }
   ],
   "source": [
    "x = torch.Tensor([5,3])\n",
    "y = torch.Tensor([2,1])\n",
    "\n",
    "print (x*y)"
   ]
  },
  {
   "cell_type": "code",
   "execution_count": 5,
   "id": "90a4a326-4721-4fbb-94e1-78c191fc43ac",
   "metadata": {},
   "outputs": [
    {
     "data": {
      "text/plain": [
       "tensor([[0., 0., 0., 0., 0.],\n",
       "        [0., 0., 0., 0., 0.]])"
      ]
     },
     "execution_count": 5,
     "metadata": {},
     "output_type": "execute_result"
    }
   ],
   "source": [
    "x = torch.zeros([2,5])\n",
    "x"
   ]
  },
  {
   "cell_type": "code",
   "execution_count": 6,
   "id": "0b970b61-fead-4c52-973e-c3d9f77ede62",
   "metadata": {},
   "outputs": [
    {
     "data": {
      "text/plain": [
       "torch.Size([2, 5])"
      ]
     },
     "execution_count": 6,
     "metadata": {},
     "output_type": "execute_result"
    }
   ],
   "source": [
    "x.shape"
   ]
  },
  {
   "cell_type": "code",
   "execution_count": 7,
   "id": "67f6968d-8786-4cb0-9d32-21eb834b5c21",
   "metadata": {},
   "outputs": [
    {
     "data": {
      "text/plain": [
       "tensor([[0.5804, 0.7857, 0.5129, 0.2247, 0.0769],\n",
       "        [0.4875, 0.5909, 0.4646, 0.5065, 0.2321]])"
      ]
     },
     "execution_count": 7,
     "metadata": {},
     "output_type": "execute_result"
    }
   ],
   "source": [
    "y = torch.rand([2,5])\n",
    "y"
   ]
  },
  {
   "cell_type": "code",
   "execution_count": 8,
   "id": "b47b4c85-9636-4d6d-9a17-827406d8be84",
   "metadata": {},
   "outputs": [
    {
     "data": {
      "text/plain": [
       "tensor([[0.5804, 0.7857, 0.5129, 0.2247, 0.0769, 0.4875, 0.5909, 0.4646, 0.5065,\n",
       "         0.2321]])"
      ]
     },
     "execution_count": 8,
     "metadata": {},
     "output_type": "execute_result"
    }
   ],
   "source": [
    "y.view([1,10])"
   ]
  },
  {
   "cell_type": "code",
   "execution_count": 11,
   "id": "f0618da9-3d7d-4817-9058-1408200bd1b0",
   "metadata": {},
   "outputs": [],
   "source": [
    "# y.view([3,3])\n",
    "# will show error"
   ]
  },
  {
   "cell_type": "code",
   "execution_count": 10,
   "id": "bf96f21b-19aa-48f8-88da-9c392ec588b0",
   "metadata": {},
   "outputs": [
    {
     "data": {
      "text/plain": [
       "tensor([[0.5804, 0.7857, 0.5129, 0.2247, 0.0769],\n",
       "        [0.4875, 0.5909, 0.4646, 0.5065, 0.2321]])"
      ]
     },
     "execution_count": 10,
     "metadata": {},
     "output_type": "execute_result"
    }
   ],
   "source": [
    "y"
   ]
  },
  {
   "cell_type": "markdown",
   "id": "0876a301-0416-4f8c-ad8d-214561936b1d",
   "metadata": {
    "jp-MarkdownHeadingCollapsed": true
   },
   "source": [
    "### Video 2/8"
   ]
  },
  {
   "cell_type": "code",
   "execution_count": 13,
   "id": "f695112b-3f30-437f-b746-0d53de076559",
   "metadata": {},
   "outputs": [],
   "source": [
    "import torchvision\n",
    "from torchvision import transforms,datasets"
   ]
  },
  {
   "cell_type": "code",
   "execution_count": 18,
   "id": "a6d16dc5-1db8-4b3b-bda7-db01e41b00db",
   "metadata": {},
   "outputs": [],
   "source": [
    "train = datasets.MNIST(\"\", train=True, download=True,\n",
    "                       transform=transforms.Compose([transforms.ToTensor()]))\n",
    "test = datasets.MNIST(\"\", train=False, download=True,\n",
    "                       transform=transforms.Compose([transforms.ToTensor()]))"
   ]
  },
  {
   "cell_type": "code",
   "execution_count": 19,
   "id": "c3db3ac4-8700-4aaa-8dc1-64a783848b68",
   "metadata": {},
   "outputs": [],
   "source": [
    "trainset = torch.utils.data.DataLoader(train, batch_size=10, shuffle=True)\n",
    "testset = torch.utils.data.DataLoader(test, batch_size=10, shuffle=True)"
   ]
  },
  {
   "cell_type": "code",
   "execution_count": 20,
   "id": "22cd63bf-626a-4dbe-80f2-e57a55b85d4d",
   "metadata": {},
   "outputs": [
    {
     "name": "stdout",
     "output_type": "stream",
     "text": [
      "[tensor([[[[0., 0., 0.,  ..., 0., 0., 0.],\n",
      "          [0., 0., 0.,  ..., 0., 0., 0.],\n",
      "          [0., 0., 0.,  ..., 0., 0., 0.],\n",
      "          ...,\n",
      "          [0., 0., 0.,  ..., 0., 0., 0.],\n",
      "          [0., 0., 0.,  ..., 0., 0., 0.],\n",
      "          [0., 0., 0.,  ..., 0., 0., 0.]]],\n",
      "\n",
      "\n",
      "        [[[0., 0., 0.,  ..., 0., 0., 0.],\n",
      "          [0., 0., 0.,  ..., 0., 0., 0.],\n",
      "          [0., 0., 0.,  ..., 0., 0., 0.],\n",
      "          ...,\n",
      "          [0., 0., 0.,  ..., 0., 0., 0.],\n",
      "          [0., 0., 0.,  ..., 0., 0., 0.],\n",
      "          [0., 0., 0.,  ..., 0., 0., 0.]]],\n",
      "\n",
      "\n",
      "        [[[0., 0., 0.,  ..., 0., 0., 0.],\n",
      "          [0., 0., 0.,  ..., 0., 0., 0.],\n",
      "          [0., 0., 0.,  ..., 0., 0., 0.],\n",
      "          ...,\n",
      "          [0., 0., 0.,  ..., 0., 0., 0.],\n",
      "          [0., 0., 0.,  ..., 0., 0., 0.],\n",
      "          [0., 0., 0.,  ..., 0., 0., 0.]]],\n",
      "\n",
      "\n",
      "        ...,\n",
      "\n",
      "\n",
      "        [[[0., 0., 0.,  ..., 0., 0., 0.],\n",
      "          [0., 0., 0.,  ..., 0., 0., 0.],\n",
      "          [0., 0., 0.,  ..., 0., 0., 0.],\n",
      "          ...,\n",
      "          [0., 0., 0.,  ..., 0., 0., 0.],\n",
      "          [0., 0., 0.,  ..., 0., 0., 0.],\n",
      "          [0., 0., 0.,  ..., 0., 0., 0.]]],\n",
      "\n",
      "\n",
      "        [[[0., 0., 0.,  ..., 0., 0., 0.],\n",
      "          [0., 0., 0.,  ..., 0., 0., 0.],\n",
      "          [0., 0., 0.,  ..., 0., 0., 0.],\n",
      "          ...,\n",
      "          [0., 0., 0.,  ..., 0., 0., 0.],\n",
      "          [0., 0., 0.,  ..., 0., 0., 0.],\n",
      "          [0., 0., 0.,  ..., 0., 0., 0.]]],\n",
      "\n",
      "\n",
      "        [[[0., 0., 0.,  ..., 0., 0., 0.],\n",
      "          [0., 0., 0.,  ..., 0., 0., 0.],\n",
      "          [0., 0., 0.,  ..., 0., 0., 0.],\n",
      "          ...,\n",
      "          [0., 0., 0.,  ..., 0., 0., 0.],\n",
      "          [0., 0., 0.,  ..., 0., 0., 0.],\n",
      "          [0., 0., 0.,  ..., 0., 0., 0.]]]]), tensor([2, 5, 8, 9, 9, 3, 4, 6, 1, 7])]\n"
     ]
    }
   ],
   "source": [
    "for data in trainset:\n",
    "    print(data)\n",
    "    break"
   ]
  },
  {
   "cell_type": "markdown",
   "id": "829ebe40-43e6-4b80-82ef-786587399f7e",
   "metadata": {},
   "source": [
    "prints one batch"
   ]
  },
  {
   "cell_type": "code",
   "execution_count": 21,
   "id": "2e251285-9a50-4d7d-9a93-dda5dcae2679",
   "metadata": {},
   "outputs": [
    {
     "name": "stdout",
     "output_type": "stream",
     "text": [
      "tensor(2)\n"
     ]
    }
   ],
   "source": [
    "x, y = data[0][0], data[1][0]\n",
    "\n",
    "print (y)"
   ]
  },
  {
   "cell_type": "code",
   "execution_count": 22,
   "id": "0eef1f61-cae5-492a-962e-ed53a2ec993c",
   "metadata": {},
   "outputs": [
    {
     "name": "stdout",
     "output_type": "stream",
     "text": [
      "torch.Size([1, 28, 28])\n"
     ]
    }
   ],
   "source": [
    "print(data[0][0].shape)"
   ]
  },
  {
   "cell_type": "code",
   "execution_count": 23,
   "id": "b68d33fc-3526-4e3e-adec-69f287c6f99c",
   "metadata": {},
   "outputs": [],
   "source": [
    "import matplotlib.pyplot as plt\n",
    "\n",
    "# plt.imshow(data[0][0])\n",
    "# plt.show()\n",
    "\n",
    "# the above will show error - invalid shape"
   ]
  },
  {
   "cell_type": "code",
   "execution_count": 25,
   "id": "eae03028-f1f0-47d5-b15c-b01fe5769406",
   "metadata": {},
   "outputs": [
    {
     "data": {
      "image/png": "[encoded data removed]",
      "text/plain": [
       "<Figure size 640x480 with 1 Axes>"
      ]
     },
     "metadata": {},
     "output_type": "display_data"
    }
   ],
   "source": [
    "plt.imshow(data[0][0].view(28,28))\n",
    "plt.show()"
   ]
  },
  {
   "cell_type": "code",
   "execution_count": 26,
   "id": "8f8caa0b-8883-43e8-9fb5-dd0041179faa",
   "metadata": {},
   "outputs": [],
   "source": [
    "# to check whether the dataset is balanced or imbalanced"
   ]
  },
  {
   "cell_type": "code",
   "execution_count": 27,
   "id": "cffb66b5-2d7a-4e76-8710-8b02226150c7",
   "metadata": {},
   "outputs": [
    {
     "name": "stdout",
     "output_type": "stream",
     "text": [
      "{0: 5923, 1: 6742, 2: 5958, 3: 6131, 4: 5842, 5: 5421, 6: 5918, 7: 6265, 8: 5851, 9: 5949}\n"
     ]
    }
   ],
   "source": [
    "total = 0\n",
    "counter_dict = {0:0, 1:0, 2:0, 3:0, 4:0, 5:0, 6:0, 7:0, 8:0, 9:0}\n",
    "\n",
    "for data in trainset:\n",
    "    Xs, ys = data\n",
    "    for y in ys:\n",
    "        counter_dict[int(y)] += 1\n",
    "        total += 1\n",
    "\n",
    "print(counter_dict)"
   ]
  },
  {
   "cell_type": "code",
   "execution_count": 30,
   "id": "58f68a4c-3dc1-498c-ad1e-aa8d59a90e5f",
   "metadata": {},
   "outputs": [
    {
     "name": "stdout",
     "output_type": "stream",
     "text": [
      "0: 9.871666666666666\n",
      "1: 11.236666666666666\n",
      "2: 9.93\n",
      "3: 10.218333333333334\n",
      "4: 9.736666666666666\n",
      "5: 9.035\n",
      "6: 9.863333333333333\n",
      "7: 10.441666666666666\n",
      "8: 9.751666666666667\n",
      "9: 9.915000000000001\n"
     ]
    }
   ],
   "source": [
    "for i in counter_dict:\n",
    "    print(f\"{i}: {counter_dict[i]/total * 100}\")"
   ]
  },
  {
   "cell_type": "markdown",
   "id": "0d91fb1d-468e-4df3-99d6-a0f335c8a53b",
   "metadata": {
    "jp-MarkdownHeadingCollapsed": true
   },
   "source": [
    "### Video 3/8"
   ]
  },
  {
   "cell_type": "code",
   "execution_count": 31,
   "id": "af40490f-b8b7-4417-b1c5-0dab1a37e204",
   "metadata": {},
   "outputs": [],
   "source": [
    "import torch.nn as nn\n",
    "import torch.nn.functional as F"
   ]
  },
  {
   "cell_type": "code",
   "execution_count": 32,
   "id": "c4db6abe-5cd0-45f9-8026-f7324209be14",
   "metadata": {},
   "outputs": [
    {
     "data": {
      "text/plain": [
       "784"
      ]
     },
     "execution_count": 32,
     "metadata": {},
     "output_type": "execute_result"
    }
   ],
   "source": [
    "28*28"
   ]
  },
  {
   "cell_type": "code",
   "execution_count": 35,
   "id": "ddeab233-99c3-482b-8580-a8017dc1cd9e",
   "metadata": {},
   "outputs": [
    {
     "name": "stdout",
     "output_type": "stream",
     "text": [
      "Net(\n",
      "  (fc1): Linear(in_features=784, out_features=64, bias=True)\n",
      "  (fc2): Linear(in_features=64, out_features=32, bias=True)\n",
      "  (fc3): Linear(in_features=32, out_features=32, bias=True)\n",
      "  (fc4): Linear(in_features=32, out_features=10, bias=True)\n",
      ")\n"
     ]
    }
   ],
   "source": [
    "class Net(nn.Module):\n",
    "    def __init__(self):\n",
    "        super().__init__()\n",
    "        \n",
    "        # self.fc1 = nn.Linear(input, output)\n",
    "        self.fc1 = nn.Linear(28*28, 64)\n",
    "        self.fc2 = nn.Linear(64, 32)\n",
    "        self.fc3 = nn.Linear(32, 32)\n",
    "        self.fc4 = nn.Linear(32, 10)\n",
    "\n",
    "    def forward(self, x):\n",
    "        x = F.relu(self.fc1(x))\n",
    "        x = F.relu(self.fc2(x))\n",
    "        x = F.relu(self.fc3(x))\n",
    "        \n",
    "        x = self.fc4(x)\n",
    "        \n",
    "        return F.log_softmax(x, dim=1) \n",
    "        # softmax to get probability of each class in multi class\n",
    "\n",
    "net = Net()\n",
    "print(net)"
   ]
  },
  {
   "cell_type": "code",
   "execution_count": 36,
   "id": "07077d5b-5f8b-42d8-b645-99f775d38358",
   "metadata": {},
   "outputs": [
    {
     "data": {
      "text/plain": [
       "tensor([[1.5880e-01, 4.6800e-01, 9.9794e-01, 8.8162e-01, 5.5779e-01, 6.7601e-01,\n",
       "         7.5498e-02, 2.5410e-01, 5.6815e-01, 1.0124e-01, 7.6957e-01, 6.3784e-01,\n",
       "         5.7622e-01, 8.1824e-01, 4.2674e-01, 1.9970e-01, 8.2550e-01, 2.4260e-02,\n",
       "         6.5708e-01, 5.3663e-01, 8.4298e-01, 6.8547e-01, 6.1331e-01, 5.6969e-01,\n",
       "         5.5796e-01, 3.8534e-01, 1.4528e-01, 6.5693e-01],\n",
       "        [3.6204e-01, 9.2397e-02, 7.5743e-01, 2.5570e-01, 9.9745e-01, 1.1281e-01,\n",
       "         5.6214e-01, 1.7355e-01, 3.1214e-01, 5.5690e-01, 1.7261e-01, 7.3537e-01,\n",
       "         5.0242e-01, 2.5997e-01, 8.1399e-01, 4.3118e-01, 7.5199e-01, 3.9287e-01,\n",
       "         9.8372e-01, 2.8450e-01, 4.3469e-01, 5.4945e-01, 1.9034e-01, 6.1571e-01,\n",
       "         2.2612e-01, 2.2857e-01, 9.9388e-01, 1.2297e-01],\n",
       "        [2.5945e-01, 4.1290e-01, 6.2647e-01, 6.2105e-01, 9.6431e-01, 4.3734e-01,\n",
       "         3.2189e-01, 6.0676e-01, 1.2152e-01, 4.5239e-01, 5.2908e-01, 3.1576e-02,\n",
       "         6.8038e-01, 1.8408e-01, 8.5090e-01, 1.1480e-01, 6.3906e-01, 9.2948e-01,\n",
       "         8.1307e-02, 1.9110e-01, 3.2307e-01, 9.4860e-01, 5.8180e-01, 7.7248e-01,\n",
       "         1.0356e-01, 8.9090e-01, 7.4052e-01, 5.4909e-01],\n",
       "        [6.6357e-02, 6.5409e-01, 5.9435e-03, 5.8831e-01, 3.0386e-01, 4.6023e-01,\n",
       "         7.0573e-01, 2.0134e-01, 4.5603e-01, 3.6193e-01, 8.0071e-01, 3.9788e-01,\n",
       "         1.5907e-01, 3.6169e-01, 4.7803e-01, 5.8537e-01, 9.0366e-01, 9.2539e-01,\n",
       "         1.5203e-01, 2.8341e-01, 5.9666e-01, 6.3547e-01, 4.2382e-01, 5.1596e-01,\n",
       "         9.6371e-02, 6.0981e-01, 3.4718e-01, 4.7599e-01],\n",
       "        [4.8711e-01, 7.1941e-01, 5.0888e-01, 4.5201e-01, 4.5216e-01, 1.2260e-01,\n",
       "         1.0039e-01, 5.5307e-01, 9.0985e-01, 9.8811e-01, 4.4277e-01, 9.9381e-01,\n",
       "         3.9634e-01, 2.1320e-01, 1.0610e-01, 2.0911e-01, 2.6137e-01, 5.6613e-01,\n",
       "         5.6244e-01, 7.0232e-01, 7.5093e-01, 4.8381e-01, 8.3636e-03, 6.2783e-01,\n",
       "         4.5118e-01, 9.2393e-01, 6.6966e-01, 9.2001e-02],\n",
       "        [1.5315e-01, 6.6526e-02, 9.4836e-01, 3.2308e-01, 1.6148e-01, 3.9543e-01,\n",
       "         5.4226e-01, 3.4485e-01, 3.6864e-03, 1.5467e-02, 8.3442e-02, 9.9435e-01,\n",
       "         5.8524e-02, 3.7209e-01, 9.2411e-01, 6.2482e-01, 6.9041e-01, 6.4320e-01,\n",
       "         9.7316e-01, 7.6656e-01, 9.3606e-01, 3.4404e-02, 7.2840e-01, 1.8776e-01,\n",
       "         9.0769e-01, 4.9501e-01, 6.6283e-01, 8.9995e-01],\n",
       "        [2.3838e-01, 6.3976e-01, 6.5334e-01, 4.4702e-01, 6.7138e-01, 7.8663e-01,\n",
       "         2.0419e-03, 6.5747e-01, 1.0149e-01, 4.2364e-01, 9.1960e-01, 7.5368e-01,\n",
       "         5.8640e-01, 6.6894e-01, 5.0345e-01, 8.8222e-01, 7.9573e-01, 2.2103e-01,\n",
       "         2.4789e-01, 3.9955e-01, 8.6699e-01, 7.8591e-01, 1.2192e-01, 6.6591e-01,\n",
       "         4.7449e-01, 8.4045e-01, 5.1188e-01, 4.5493e-01],\n",
       "        [7.3365e-01, 5.6444e-01, 9.3926e-01, 6.2309e-01, 9.6004e-01, 5.1416e-01,\n",
       "         5.4281e-02, 8.4988e-01, 8.4754e-01, 1.6489e-01, 2.1612e-01, 4.5648e-01,\n",
       "         9.7329e-01, 1.0354e-01, 5.0193e-01, 6.2761e-01, 3.1367e-01, 1.1722e-01,\n",
       "         9.7979e-01, 3.6605e-01, 7.5637e-01, 9.0318e-01, 2.5585e-01, 8.5559e-01,\n",
       "         6.6391e-01, 9.3971e-01, 8.5766e-01, 8.7392e-01],\n",
       "        [2.5840e-01, 4.0890e-01, 9.5419e-01, 4.2655e-01, 9.0387e-01, 2.7941e-01,\n",
       "         1.3306e-01, 8.4454e-01, 6.4060e-01, 2.2283e-01, 7.5550e-01, 7.7169e-01,\n",
       "         2.0821e-01, 5.6242e-01, 2.7648e-01, 5.4842e-01, 1.3980e-01, 3.6237e-01,\n",
       "         1.4802e-01, 4.9073e-01, 9.5454e-01, 1.1284e-01, 2.6270e-01, 1.7636e-02,\n",
       "         2.1409e-01, 5.3795e-01, 6.1259e-01, 1.4809e-01],\n",
       "        [6.1630e-01, 5.0659e-01, 9.3058e-01, 1.4630e-01, 1.7222e-01, 6.6677e-01,\n",
       "         7.8553e-01, 9.6596e-01, 7.0953e-01, 2.1382e-01, 2.9868e-01, 9.3274e-02,\n",
       "         6.3139e-01, 7.4661e-01, 9.1279e-01, 9.8498e-02, 5.8216e-01, 9.4894e-01,\n",
       "         8.7793e-02, 9.0632e-01, 8.2005e-01, 9.6155e-02, 2.5001e-01, 3.7731e-01,\n",
       "         3.3742e-01, 3.2812e-01, 5.5324e-01, 1.8100e-01],\n",
       "        [6.3627e-01, 7.9160e-01, 4.4613e-01, 2.8130e-01, 5.8464e-01, 4.3748e-01,\n",
       "         3.1179e-01, 4.5249e-01, 1.0082e-01, 5.3907e-01, 1.0976e-01, 9.6630e-01,\n",
       "         1.8745e-01, 6.8206e-01, 5.7805e-01, 1.6222e-01, 8.2002e-01, 5.1454e-01,\n",
       "         8.3306e-01, 9.5379e-01, 3.2320e-01, 5.5147e-02, 5.4980e-01, 1.3101e-01,\n",
       "         4.8507e-01, 4.0297e-01, 3.0634e-03, 2.1832e-01],\n",
       "        [6.0837e-01, 8.2091e-01, 7.1946e-01, 8.2905e-01, 3.9954e-01, 4.0702e-01,\n",
       "         1.7270e-01, 9.3246e-01, 9.6522e-02, 1.1547e-01, 2.9320e-01, 1.8421e-01,\n",
       "         1.3348e-01, 7.1846e-01, 2.6347e-01, 8.2094e-01, 7.9065e-01, 5.2346e-01,\n",
       "         1.9823e-01, 2.2299e-01, 3.6482e-01, 1.9172e-02, 3.9249e-01, 3.7695e-01,\n",
       "         6.0115e-01, 2.9721e-02, 6.6194e-01, 9.7062e-01],\n",
       "        [1.7710e-02, 4.4952e-01, 4.7604e-01, 2.6670e-01, 1.9393e-01, 8.0921e-01,\n",
       "         7.5098e-01, 3.3128e-03, 1.8525e-01, 8.8647e-01, 6.1762e-01, 6.3177e-01,\n",
       "         3.8538e-01, 5.5194e-01, 3.5068e-01, 8.6847e-01, 8.8087e-01, 9.5594e-01,\n",
       "         3.6494e-01, 4.1175e-01, 3.3634e-01, 8.3185e-01, 1.5157e-01, 4.0450e-01,\n",
       "         4.3236e-01, 8.1021e-01, 4.0130e-01, 7.1806e-01],\n",
       "        [8.4316e-01, 7.3246e-01, 5.9525e-01, 6.1082e-01, 4.1426e-02, 8.0366e-01,\n",
       "         3.5979e-02, 9.4402e-01, 2.9649e-01, 3.0960e-01, 7.9544e-01, 4.4416e-01,\n",
       "         2.6027e-02, 1.3532e-01, 1.8180e-01, 4.1732e-01, 6.6622e-01, 6.9492e-01,\n",
       "         6.2283e-01, 8.5021e-01, 2.0814e-01, 4.1890e-01, 1.6837e-01, 4.0974e-01,\n",
       "         7.7837e-02, 5.6283e-01, 6.9109e-03, 4.8216e-01],\n",
       "        [2.9885e-01, 3.1364e-01, 4.7214e-02, 3.1377e-01, 6.4451e-01, 7.8814e-01,\n",
       "         9.6333e-01, 6.2063e-01, 8.6560e-01, 2.8924e-01, 9.4534e-01, 3.5250e-01,\n",
       "         9.8723e-01, 5.9372e-01, 8.6848e-01, 7.2532e-01, 9.6623e-01, 9.4014e-01,\n",
       "         1.6799e-01, 7.1403e-01, 5.3754e-01, 9.2687e-01, 7.8704e-01, 3.5561e-01,\n",
       "         2.0578e-01, 4.1502e-01, 5.0078e-02, 9.7979e-01],\n",
       "        [4.8017e-01, 7.1359e-01, 2.5991e-01, 1.9530e-01, 7.7361e-01, 3.9502e-01,\n",
       "         2.4020e-01, 9.7694e-01, 7.3554e-01, 6.6324e-01, 8.6028e-01, 3.9920e-01,\n",
       "         3.3758e-02, 2.6553e-01, 9.4229e-01, 4.6321e-01, 2.3649e-01, 5.0951e-01,\n",
       "         6.6314e-01, 1.7690e-01, 1.9991e-01, 4.2891e-01, 7.8789e-01, 7.8367e-01,\n",
       "         8.7815e-01, 3.9562e-01, 1.6240e-02, 9.2402e-01],\n",
       "        [6.9221e-01, 9.3683e-01, 7.7348e-01, 4.1526e-01, 5.1113e-01, 1.1277e-04,\n",
       "         8.9453e-01, 3.4156e-01, 5.6085e-01, 4.2071e-01, 4.9124e-01, 3.5462e-01,\n",
       "         4.3651e-01, 6.1552e-01, 8.4300e-01, 4.1606e-01, 1.3642e-01, 3.5517e-01,\n",
       "         2.5112e-01, 6.0098e-01, 2.4235e-01, 1.2895e-01, 5.8704e-01, 4.8730e-01,\n",
       "         2.0279e-01, 5.0432e-01, 9.3111e-02, 8.1751e-01],\n",
       "        [9.7358e-01, 4.4076e-01, 6.2150e-01, 6.2839e-02, 9.6618e-01, 2.3957e-01,\n",
       "         9.3359e-01, 9.9097e-01, 2.0094e-02, 4.8448e-01, 7.1239e-01, 7.6761e-02,\n",
       "         7.6348e-01, 9.9691e-02, 1.6613e-01, 1.0155e-01, 2.5100e-01, 2.9839e-01,\n",
       "         8.9255e-01, 4.5416e-01, 6.9743e-01, 5.1615e-01, 3.9218e-01, 2.2650e-01,\n",
       "         2.6310e-01, 6.4573e-01, 7.0111e-01, 3.0275e-01],\n",
       "        [4.8334e-01, 8.5493e-01, 8.0771e-01, 2.3425e-01, 6.4426e-01, 3.8245e-02,\n",
       "         2.7997e-01, 6.1308e-02, 2.5401e-01, 1.4832e-01, 6.1089e-01, 9.6837e-01,\n",
       "         2.6612e-01, 1.3648e-01, 7.6149e-01, 3.6473e-01, 8.5138e-01, 2.4858e-01,\n",
       "         3.9354e-01, 3.7356e-01, 8.8758e-01, 8.7146e-01, 9.3326e-01, 3.9126e-01,\n",
       "         5.3828e-01, 3.0158e-01, 8.5493e-01, 5.2681e-01],\n",
       "        [3.7381e-01, 2.5381e-01, 1.8674e-02, 6.0634e-01, 5.9002e-01, 6.4451e-02,\n",
       "         8.3690e-02, 7.7220e-01, 3.7919e-01, 4.9146e-01, 5.1475e-01, 6.9869e-01,\n",
       "         7.0920e-01, 9.7174e-01, 1.0733e-01, 8.9755e-02, 9.0473e-01, 4.4618e-01,\n",
       "         7.2020e-01, 2.2652e-01, 9.9945e-02, 3.3364e-01, 1.4273e-01, 6.5680e-01,\n",
       "         2.5319e-01, 7.7159e-01, 6.2843e-01, 9.4838e-01],\n",
       "        [3.3760e-02, 2.7654e-02, 5.4978e-01, 6.9654e-01, 2.8162e-01, 8.0646e-01,\n",
       "         2.1937e-01, 1.2812e-01, 9.1984e-01, 1.3508e-01, 6.4723e-01, 1.7636e-01,\n",
       "         2.6907e-01, 6.3811e-01, 9.8428e-01, 5.9892e-01, 5.9398e-01, 9.8352e-01,\n",
       "         2.2012e-01, 2.2902e-01, 3.1740e-01, 5.9834e-01, 4.4814e-01, 7.1199e-01,\n",
       "         3.4376e-01, 2.7579e-01, 3.1157e-01, 1.9640e-01],\n",
       "        [5.9344e-03, 1.3896e-01, 7.8422e-01, 8.4605e-01, 9.4906e-01, 1.8345e-01,\n",
       "         6.5359e-01, 1.6172e-01, 3.8092e-01, 9.0877e-01, 1.5325e-01, 3.8893e-01,\n",
       "         5.0033e-01, 6.9741e-01, 4.9152e-01, 1.1887e-02, 3.9069e-01, 5.0441e-01,\n",
       "         5.8246e-01, 1.3848e-01, 6.3173e-01, 4.9728e-01, 5.6920e-01, 9.4750e-01,\n",
       "         3.9622e-03, 5.2700e-01, 9.0382e-01, 8.0158e-01],\n",
       "        [5.4925e-01, 3.7609e-01, 2.7534e-01, 2.2347e-01, 8.5693e-01, 6.8180e-01,\n",
       "         5.7849e-01, 9.5994e-01, 5.1469e-01, 4.1678e-01, 7.9133e-01, 1.7277e-01,\n",
       "         8.1073e-01, 3.2318e-02, 4.6048e-01, 5.4773e-01, 3.9668e-01, 1.8761e-02,\n",
       "         3.7455e-01, 4.5501e-01, 5.7359e-01, 9.3483e-01, 4.8459e-01, 7.1316e-02,\n",
       "         7.4464e-01, 4.3492e-01, 8.8079e-01, 3.0813e-01],\n",
       "        [1.2711e-01, 2.8961e-01, 9.6828e-01, 1.6298e-01, 7.7418e-01, 8.7774e-01,\n",
       "         8.2976e-01, 3.5448e-01, 5.2068e-01, 5.6858e-01, 3.7055e-01, 7.7100e-01,\n",
       "         7.5623e-01, 4.0680e-01, 2.9618e-01, 7.1461e-01, 3.5882e-01, 9.1981e-01,\n",
       "         7.9601e-01, 8.9233e-01, 4.1673e-01, 5.3470e-01, 6.7364e-01, 2.0152e-01,\n",
       "         8.3646e-01, 2.2787e-02, 2.2042e-02, 1.6677e-01],\n",
       "        [8.2907e-01, 6.0989e-01, 9.8956e-01, 4.4567e-01, 6.9793e-01, 8.2701e-01,\n",
       "         4.1198e-01, 5.6842e-01, 9.9508e-01, 1.1365e-02, 7.3771e-01, 4.2046e-01,\n",
       "         1.2868e-02, 1.9084e-01, 7.6358e-01, 7.3137e-01, 6.6749e-01, 9.7557e-01,\n",
       "         3.7259e-01, 7.5572e-01, 9.2357e-01, 1.4278e-01, 6.5397e-01, 7.2532e-01,\n",
       "         8.3362e-01, 3.4685e-01, 3.8041e-01, 7.1010e-02],\n",
       "        [9.7866e-01, 5.4320e-01, 5.2207e-01, 4.8955e-01, 6.7825e-01, 7.6348e-01,\n",
       "         9.0214e-01, 3.2662e-01, 9.5221e-01, 9.0883e-01, 5.9276e-01, 8.0805e-02,\n",
       "         4.1124e-02, 3.0262e-01, 8.8724e-01, 4.1741e-01, 8.4985e-01, 4.4173e-02,\n",
       "         4.6312e-01, 3.8084e-03, 8.6868e-01, 3.5472e-01, 2.3693e-01, 3.6708e-01,\n",
       "         3.0316e-02, 6.0827e-01, 5.4374e-01, 1.0845e-01],\n",
       "        [8.8170e-01, 2.2765e-01, 9.0452e-01, 8.9967e-01, 7.3157e-01, 6.4129e-01,\n",
       "         7.3442e-01, 8.6297e-01, 6.8969e-01, 9.6388e-01, 6.2773e-01, 9.6546e-01,\n",
       "         2.6073e-01, 9.9193e-01, 8.0295e-01, 4.8903e-02, 4.2685e-01, 6.9046e-01,\n",
       "         9.5751e-01, 4.1575e-01, 7.0338e-01, 1.5041e-01, 3.2542e-01, 4.5767e-01,\n",
       "         4.5471e-01, 6.7796e-01, 5.8004e-01, 2.2534e-01],\n",
       "        [8.0843e-01, 6.9153e-01, 5.6020e-01, 3.0751e-01, 9.9385e-01, 2.6054e-01,\n",
       "         3.4975e-01, 1.7454e-01, 8.7923e-01, 4.2313e-01, 6.7372e-01, 7.8841e-01,\n",
       "         3.1851e-01, 1.0430e-01, 6.6400e-01, 1.1070e-01, 3.7894e-01, 1.8399e-02,\n",
       "         1.4244e-01, 2.6119e-01, 6.9520e-01, 8.7557e-01, 9.4182e-01, 5.2524e-01,\n",
       "         2.0334e-01, 3.8645e-01, 8.5610e-01, 3.5825e-01]])"
      ]
     },
     "execution_count": 36,
     "metadata": {},
     "output_type": "execute_result"
    }
   ],
   "source": [
    "X = torch.rand((28,28))\n",
    "X"
   ]
  },
  {
   "cell_type": "code",
   "execution_count": 42,
   "id": "cc8ad5ac-5dbd-4d16-9df7-1db01e0055ae",
   "metadata": {},
   "outputs": [],
   "source": [
    "# output = net(X)\n",
    "# error: mat1 and mat2 shapes cannot be multiplied (28x28 and 784x64)\n",
    "\n",
    "# X = X.view(28*28)\n",
    "# output = net(X)\n",
    "# same as above\n",
    "\n",
    "# X = X.view([28*28])\n",
    "# output = net(X)\n",
    "# same as above\n",
    "\n",
    "X = X.view(-1, 28*28)\n",
    "output = net(X)"
   ]
  },
  {
   "cell_type": "code",
   "execution_count": 43,
   "id": "74619d8b-980e-4531-859c-70307a4703f4",
   "metadata": {},
   "outputs": [
    {
     "data": {
      "text/plain": [
       "tensor([[-2.4792, -2.4258, -2.1764, -2.2797, -2.0887, -2.1846, -2.4440, -2.3337,\n",
       "         -2.2827, -2.4091]], grad_fn=<LogSoftmaxBackward0>)"
      ]
     },
     "execution_count": 43,
     "metadata": {},
     "output_type": "execute_result"
    }
   ],
   "source": [
    "output"
   ]
  },
  {
   "cell_type": "code",
   "execution_count": 44,
   "id": "954c723b-9fcb-44c2-8145-175bdf2e8118",
   "metadata": {},
   "outputs": [
    {
     "data": {
      "text/plain": [
       "tensor([[-2.4792, -2.4258, -2.1764, -2.2797, -2.0887, -2.1846, -2.4440, -2.3337,\n",
       "         -2.2827, -2.4091]], grad_fn=<LogSoftmaxBackward0>)"
      ]
     },
     "execution_count": 44,
     "metadata": {},
     "output_type": "execute_result"
    }
   ],
   "source": [
    "X = X.view(1, 28*28)\n",
    "output = net(X)\n",
    "output"
   ]
  },
  {
   "cell_type": "markdown",
   "id": "c522ddc5-662d-4123-9532-38c0b28847ff",
   "metadata": {},
   "source": [
    "**Imp...**\n",
    "\n",
    "-1 represents any size of data and that is why used often"
   ]
  },
  {
   "cell_type": "markdown",
   "id": "94a504cb-cc0b-4dae-8904-a1c03b716619",
   "metadata": {
    "jp-MarkdownHeadingCollapsed": true
   },
   "source": [
    "### Video 4/8"
   ]
  },
  {
   "cell_type": "code",
   "execution_count": 47,
   "id": "8a50582d-c521-46a8-8aab-aee800d5febd",
   "metadata": {},
   "outputs": [
    {
     "name": "stdout",
     "output_type": "stream",
     "text": [
      "tensor(0.1517, grad_fn=<NllLossBackward0>)\n",
      "tensor(0.0296, grad_fn=<NllLossBackward0>)\n",
      "tensor(0.4940, grad_fn=<NllLossBackward0>)\n"
     ]
    }
   ],
   "source": [
    "import torch.optim as optim\n",
    "\n",
    "optimizer = optim.Adam(net.parameters(), lr=0.001)\n",
    "\n",
    "EPOCHS = 3\n",
    "\n",
    "for epoch in range(EPOCHS):\n",
    "    for data in trainset:\n",
    "        X, y = data\n",
    "        net.zero_grad()\n",
    "        output = net(X.view(-1, 28*28))\n",
    "        loss = F.nll_loss(output, y)\n",
    "        loss.backward()\n",
    "        optimizer.step()\n",
    "\n",
    "    print(loss)"
   ]
  },
  {
   "cell_type": "code",
   "execution_count": 48,
   "id": "0f485c10-b648-4bc1-854e-90d74ebb52e2",
   "metadata": {},
   "outputs": [
    {
     "name": "stdout",
     "output_type": "stream",
     "text": [
      "Accuracy:  0.976\n"
     ]
    }
   ],
   "source": [
    "correct = 0\n",
    "total = 0\n",
    "\n",
    "with torch.no_grad():\n",
    "    for data in trainset:\n",
    "        X, y = data\n",
    "        output = net(X.view(-1, 784))\n",
    "\n",
    "        for idx, i in enumerate(output):\n",
    "            if torch.argmax(i) == y[idx]:\n",
    "                correct += 1\n",
    "            total += 1\n",
    "\n",
    "print(\"Accuracy: \", round(correct/total, 3))"
   ]
  },
  {
   "cell_type": "code",
   "execution_count": 49,
   "id": "8fc4c69d-2bb5-4a75-b2c9-1ccae625a5ce",
   "metadata": {},
   "outputs": [
    {
     "data": {
      "text/plain": [
       "<function matplotlib.pyplot.show(close=None, block=None)>"
      ]
     },
     "execution_count": 49,
     "metadata": {},
     "output_type": "execute_result"
    },
    {
     "data": {
      "image/png": "[encoded data removed]",
      "text/plain": [
       "<Figure size 640x480 with 1 Axes>"
      ]
     },
     "metadata": {},
     "output_type": "display_data"
    }
   ],
   "source": [
    "plt.imshow(X[0].view(28,28))\n",
    "plt.show"
   ]
  },
  {
   "cell_type": "code",
   "execution_count": 50,
   "id": "b3e00823-ddb6-4e55-b658-2334cfa67c26",
   "metadata": {},
   "outputs": [
    {
     "name": "stdout",
     "output_type": "stream",
     "text": [
      "tensor(7)\n"
     ]
    }
   ],
   "source": [
    "print(torch.argmax(net(X[0].view(-1, 784))[0]))"
   ]
  },
  {
   "cell_type": "code",
   "execution_count": 51,
   "id": "7a16f20b-bb67-4cd0-9f5a-16a6f62b610b",
   "metadata": {},
   "outputs": [
    {
     "name": "stdout",
     "output_type": "stream",
     "text": [
      "tensor(1)\n"
     ]
    },
    {
     "data": {
      "image/png": "[encoded data removed]",
      "text/plain": [
       "<Figure size 640x480 with 1 Axes>"
      ]
     },
     "metadata": {},
     "output_type": "display_data"
    }
   ],
   "source": [
    "plt.imshow(X[1].view(28,28))\n",
    "plt.show\n",
    "\n",
    "print(torch.argmax(net(X[1].view(-1, 784))[0]))"
   ]
  },
  {
   "cell_type": "markdown",
   "id": "f6ed7d14-ad55-4792-83d3-46d2e86cc542",
   "metadata": {
    "jp-MarkdownHeadingCollapsed": true
   },
   "source": [
    "### Video 5/8 - preparing the data"
   ]
  },
  {
   "cell_type": "code",
   "execution_count": 58,
   "id": "9868e550-4bdb-484d-984d-f358cecca4e5",
   "metadata": {},
   "outputs": [
    {
     "ename": "ModuleNotFoundError",
     "evalue": "No module named 'cv2'",
     "output_type": "error",
     "traceback": [
      "\u001b[1;31m---------------------------------------------------------------------------\u001b[0m",
      "\u001b[1;31mModuleNotFoundError\u001b[0m                       Traceback (most recent call last)",
      "Cell \u001b[1;32mIn[58], line 2\u001b[0m\n\u001b[0;32m      1\u001b[0m \u001b[38;5;28;01mimport\u001b[39;00m \u001b[38;5;21;01mos\u001b[39;00m\n\u001b[1;32m----> 2\u001b[0m \u001b[38;5;28;01mimport\u001b[39;00m \u001b[38;5;21;01mcv2\u001b[39;00m\n\u001b[0;32m      3\u001b[0m \u001b[38;5;28;01mimport\u001b[39;00m \u001b[38;5;21;01mnumpy\u001b[39;00m \u001b[38;5;28;01mas\u001b[39;00m \u001b[38;5;21;01mnp\u001b[39;00m\n\u001b[0;32m      4\u001b[0m \u001b[38;5;28;01mfrom\u001b[39;00m \u001b[38;5;21;01mtqdm\u001b[39;00m \u001b[38;5;28;01mimport\u001b[39;00m tqdm\n",
      "\u001b[1;31mModuleNotFoundError\u001b[0m: No module named 'cv2'"
     ]
    }
   ],
   "source": [
    "import os\n",
    "import cv2\n",
    "import numpy as np\n",
    "from tqdm import tqdm\n",
    "\n",
    "REBUILD_DATA = True\n",
    "# can change this to false after we have run this code for once\n",
    "# created our dataset with the images - dont want to use extra space/memory\n",
    "\n",
    "class DogsVSCats():\n",
    "    IMG_SIZE = 50\n",
    "    CATS = \"/kaggle/input/microsoft-catsvsdogs-dataset/PetImages/Cat\"\n",
    "    DOGS = \"/kaggle/input/microsoft-catsvsdogs-dataset/PetImages/Dog\"\n",
    "    \n",
    "    LABELS = {CATS:0, DOGS:1}\n",
    "    \n",
    "    training_data = []\n",
    "    catCount = 0\n",
    "    dogCount = 0\n",
    "    \n",
    "    def make_training_data(self):\n",
    "        for label in self.LABELS:\n",
    "            print(label)\n",
    "            \n",
    "            # iterating over all the images in the directory\n",
    "            # tqdm - just to tell the progress (where the iterator is)\n",
    "            for f in tqdm(os.listdir(label)):    \n",
    "                try:\n",
    "                    path = os.path.join(label, f)\n",
    "                    # label - path of directory\n",
    "                    # f - path of the iamge\n",
    "                    # label + f\n",
    "                    \n",
    "                    img = cv2.imread(path, cv2.IMREAD_GRAYSCALE)\n",
    "                    # converts img to grayscale\n",
    "                    # WHY? - color is an added data (which we dont need)\n",
    "                    # greyscale does not decreases another dimension (its just reduces unrequired data)\n",
    "                    \n",
    "                    # important though - do colors matter in recognizing cats & dogs\n",
    "                    \n",
    "                    img = cv2.resize(img, (self.IMG_SIZE, self.IMG_SIZE))\n",
    "                    self.training_data.append([np.array(img), np.eye(2)[self.LABELS[label]]])\n",
    "                    # numpy array of img & class labels (used one hot vector)\n",
    "                    # for a cat: [1, 0]\n",
    "                    # for a dog: [0, 1]\n",
    "\n",
    "                    # one hot encoding\n",
    "                    # np.eye(2)[0] -> o/p: array([1., 0.]) -> for a cat\n",
    "                    # np.eye(2)[1] -> o/p: array([0., 1.]) -> for a dog\n",
    "                    \n",
    "                    if label == self.CATS:\n",
    "                        self.catCount += 1\n",
    "                    elif label == self.DOGS:\n",
    "                        self.dogCount += 1\n",
    "                \n",
    "                except Exception as e:\n",
    "                    # print(str(e))\n",
    "                    pass\n",
    "                # why try & except - because some of the images might not be good\n",
    "                # so if we try to load them in, might get an error\n",
    "        \n",
    "        np.random.shuffle(self.training_data)\n",
    "        np.save(\"training_data.npy\", self.training_data)\n",
    "        print(\"Cats:\", self.catCount)\n",
    "        print(\"Dogs:\", self.dogCount)\n",
    "\n",
    "# using the flag created above\n",
    "if REBUILD_DATA:\n",
    "    dogsvcats = DogsVSCats()\n",
    "    dogsvcats.make_training_data()"
   ]
  },
  {
   "cell_type": "markdown",
   "id": "ae78c065-ce7c-42b6-803c-8462def1041b",
   "metadata": {},
   "source": [
    "for cv2\n",
    "\n",
    "pip install opencv-python"
   ]
  },
  {
   "cell_type": "code",
   "execution_count": 54,
   "id": "539d8583-b1f9-4880-83fb-76879b52325f",
   "metadata": {},
   "outputs": [
    {
     "ename": "FileNotFoundError",
     "evalue": "[Errno 2] No such file or directory: 'training_data.npy'",
     "output_type": "error",
     "traceback": [
      "\u001b[1;31m---------------------------------------------------------------------------\u001b[0m",
      "\u001b[1;31mFileNotFoundError\u001b[0m                         Traceback (most recent call last)",
      "Cell \u001b[1;32mIn[54], line 3\u001b[0m\n\u001b[0;32m      1\u001b[0m \u001b[38;5;66;03m# training_data = np.load(\"training_data.npy\")\u001b[39;00m\n\u001b[0;32m      2\u001b[0m \u001b[38;5;66;03m# above might throw and error\u001b[39;00m\n\u001b[1;32m----> 3\u001b[0m training_data \u001b[38;5;241m=\u001b[39m \u001b[43mnp\u001b[49m\u001b[38;5;241;43m.\u001b[39;49m\u001b[43mload\u001b[49m\u001b[43m(\u001b[49m\u001b[38;5;124;43m\"\u001b[39;49m\u001b[38;5;124;43mtraining_data.npy\u001b[39;49m\u001b[38;5;124;43m\"\u001b[39;49m\u001b[43m,\u001b[49m\u001b[43m \u001b[49m\u001b[43mallow_pickle\u001b[49m\u001b[38;5;241;43m=\u001b[39;49m\u001b[38;5;28;43;01mTrue\u001b[39;49;00m\u001b[43m)\u001b[49m\n",
      "File \u001b[1;32m~\\miniconda3\\envs\\ml_project_env\\lib\\site-packages\\numpy\\lib\\npyio.py:427\u001b[0m, in \u001b[0;36mload\u001b[1;34m(file, mmap_mode, allow_pickle, fix_imports, encoding, max_header_size)\u001b[0m\n\u001b[0;32m    425\u001b[0m     own_fid \u001b[38;5;241m=\u001b[39m \u001b[38;5;28;01mFalse\u001b[39;00m\n\u001b[0;32m    426\u001b[0m \u001b[38;5;28;01melse\u001b[39;00m:\n\u001b[1;32m--> 427\u001b[0m     fid \u001b[38;5;241m=\u001b[39m stack\u001b[38;5;241m.\u001b[39menter_context(\u001b[38;5;28;43mopen\u001b[39;49m\u001b[43m(\u001b[49m\u001b[43mos_fspath\u001b[49m\u001b[43m(\u001b[49m\u001b[43mfile\u001b[49m\u001b[43m)\u001b[49m\u001b[43m,\u001b[49m\u001b[43m \u001b[49m\u001b[38;5;124;43m\"\u001b[39;49m\u001b[38;5;124;43mrb\u001b[39;49m\u001b[38;5;124;43m\"\u001b[39;49m\u001b[43m)\u001b[49m)\n\u001b[0;32m    428\u001b[0m     own_fid \u001b[38;5;241m=\u001b[39m \u001b[38;5;28;01mTrue\u001b[39;00m\n\u001b[0;32m    430\u001b[0m \u001b[38;5;66;03m# Code to distinguish from NumPy binary files and pickles.\u001b[39;00m\n",
      "\u001b[1;31mFileNotFoundError\u001b[0m: [Errno 2] No such file or directory: 'training_data.npy'"
     ]
    }
   ],
   "source": [
    "# training_data = np.load(\"training_data.npy\")\n",
    "# above might throw and error\n",
    "training_data = np.load(\"training_data.npy\", allow_pickle=True)"
   ]
  },
  {
   "cell_type": "code",
   "execution_count": 55,
   "id": "ca53631d-af10-430e-997f-cc69d282a942",
   "metadata": {},
   "outputs": [
    {
     "ename": "NameError",
     "evalue": "name 'training_data' is not defined",
     "output_type": "error",
     "traceback": [
      "\u001b[1;31m---------------------------------------------------------------------------\u001b[0m",
      "\u001b[1;31mNameError\u001b[0m                                 Traceback (most recent call last)",
      "Cell \u001b[1;32mIn[55], line 1\u001b[0m\n\u001b[1;32m----> 1\u001b[0m \u001b[38;5;28mprint\u001b[39m(\u001b[38;5;28mlen\u001b[39m(\u001b[43mtraining_data\u001b[49m))\n",
      "\u001b[1;31mNameError\u001b[0m: name 'training_data' is not defined"
     ]
    }
   ],
   "source": [
    "print(len(training_data))"
   ]
  },
  {
   "cell_type": "code",
   "execution_count": 56,
   "id": "c0f1a936-29fc-425f-9647-a8530d75ac2c",
   "metadata": {},
   "outputs": [
    {
     "ename": "NameError",
     "evalue": "name 'training_data' is not defined",
     "output_type": "error",
     "traceback": [
      "\u001b[1;31m---------------------------------------------------------------------------\u001b[0m",
      "\u001b[1;31mNameError\u001b[0m                                 Traceback (most recent call last)",
      "Cell \u001b[1;32mIn[56], line 1\u001b[0m\n\u001b[1;32m----> 1\u001b[0m \u001b[38;5;28mprint\u001b[39m(\u001b[43mtraining_data\u001b[49m[\u001b[38;5;241m0\u001b[39m])\n",
      "\u001b[1;31mNameError\u001b[0m: name 'training_data' is not defined"
     ]
    }
   ],
   "source": [
    "print(training_data[0])"
   ]
  },
  {
   "cell_type": "code",
   "execution_count": 57,
   "id": "9f0e1eb2-7a09-45c4-a109-16ff08762cbb",
   "metadata": {},
   "outputs": [
    {
     "ename": "NameError",
     "evalue": "name 'training_data' is not defined",
     "output_type": "error",
     "traceback": [
      "\u001b[1;31m---------------------------------------------------------------------------\u001b[0m",
      "\u001b[1;31mNameError\u001b[0m                                 Traceback (most recent call last)",
      "Cell \u001b[1;32mIn[57], line 3\u001b[0m\n\u001b[0;32m      1\u001b[0m \u001b[38;5;28;01mimport\u001b[39;00m \u001b[38;5;21;01mmatplotlib\u001b[39;00m\u001b[38;5;21;01m.\u001b[39;00m\u001b[38;5;21;01mpyplot\u001b[39;00m \u001b[38;5;28;01mas\u001b[39;00m \u001b[38;5;21;01mplt\u001b[39;00m\n\u001b[1;32m----> 3\u001b[0m plt\u001b[38;5;241m.\u001b[39mimshow(\u001b[43mtraining_data\u001b[49m[\u001b[38;5;241m1\u001b[39m][\u001b[38;5;241m0\u001b[39m])\n\u001b[0;32m      4\u001b[0m plt\u001b[38;5;241m.\u001b[39mshow()\n",
      "\u001b[1;31mNameError\u001b[0m: name 'training_data' is not defined"
     ]
    }
   ],
   "source": [
    "import matplotlib.pyplot as plt\n",
    "\n",
    "plt.imshow(training_data[1][0])\n",
    "plt.show()\n",
    "\n",
    "# this one might be better\n",
    "# plt.imshow(training_data[1][0], cmap=\"gray\")"
   ]
  },
  {
   "cell_type": "markdown",
   "id": "24af8dfd-4f00-487a-bd2c-bcc262abff63",
   "metadata": {
    "jp-MarkdownHeadingCollapsed": true
   },
   "source": [
    "### Video 6/8 - building the model"
   ]
  },
  {
   "cell_type": "code",
   "execution_count": 71,
   "id": "802fb344-136c-4523-b7c9-b694e98c4040",
   "metadata": {},
   "outputs": [
    {
     "name": "stdout",
     "output_type": "stream",
     "text": [
      "torch.Size([128, 2, 2])\n"
     ]
    }
   ],
   "source": [
    "import torch\n",
    "import torch.nn as nn\n",
    "import torch.nn.functional as F\n",
    "\n",
    "class Net(nn.Module):\n",
    "    def __init__(self):\n",
    "        super().__init__()\n",
    "\n",
    "        # build our networks\n",
    "        \n",
    "        self.conv1 = nn.Conv2d(1, 32, 5) # 2d convolutional layer\n",
    "        # input, output, kernel size(window size)\n",
    "        self.conv2 = nn.Conv2d(32, 64, 5)\n",
    "        self.conv3 = nn.Conv2d(64, 128, 5)\n",
    "\n",
    "        # after doing these we need to have a linear layer for output\n",
    "        # but there is no documentation to do how\n",
    "        # so we need to figure it out how\n",
    "\n",
    "        # eg: for above issue\n",
    "        # self.fc1 = nn.Linear(???, 512)\n",
    "        # self.fc2 = nn.Linear(512, 2) # 2 -> classes/labels\n",
    "        # what value to put to in place of ???\n",
    "\n",
    "        # to figure this out we will have to pass a random data to it\n",
    "        x = torch.randn(50, 50).view(-1, 1, 50, 50)\n",
    "        self._to_linear = None\n",
    "        self.convs(x) # to run forward the 3 conv layers\n",
    "\n",
    "        # now doing this after finding the value of ???\n",
    "        self.fc1 = nn.Linear(self._to_linear, 512)\n",
    "        self.fc2 = nn.Linear(512, 2)\n",
    "\n",
    "    def convs(self, x):\n",
    "        # method to run forward the 3 conv layers\n",
    "        x = F.max_pool2d(F.relu(self.conv1(x)), (2,2))\n",
    "        x = F.max_pool2d(F.relu(self.conv2(x)), (2,2))\n",
    "        x = F.max_pool2d(F.relu(self.conv3(x)), (2,2))\n",
    "\n",
    "        # to see the o/p\n",
    "        print(x[0].shape)\n",
    "        \n",
    "        if self._to_linear is None:\n",
    "            self._to_linear = x[0].shape[0]*x[0].shape[1]*x[0].shape[2]\n",
    "        return x\n",
    "\n",
    "    def forward(self, x):\n",
    "        x = self.convs(x) # pass i through all the convolutional layers\n",
    "        x = x.view(-1, self._to_linear) # flatten it\n",
    "        x = F.relu(self.fc1(x)) # pass it through 1st fully connected layer\n",
    "        x = self.fc2(x)\n",
    "        # return x \n",
    "        \n",
    "        # better with an activation function\n",
    "        return F.softmax(x, dim=1)\n",
    "\n",
    "net = Net()"
   ]
  },
  {
   "cell_type": "markdown",
   "id": "efc26bdd-e6aa-488a-ae2f-ec67f577a9e8",
   "metadata": {},
   "source": [
    "#### passing through the data"
   ]
  },
  {
   "cell_type": "code",
   "execution_count": 62,
   "id": "a74d85c2-a9ec-4afe-a72b-3936a1ab1ad0",
   "metadata": {},
   "outputs": [
    {
     "ename": "NameError",
     "evalue": "name 'training_data' is not defined",
     "output_type": "error",
     "traceback": [
      "\u001b[1;31m---------------------------------------------------------------------------\u001b[0m",
      "\u001b[1;31mNameError\u001b[0m                                 Traceback (most recent call last)",
      "Cell \u001b[1;32mIn[62], line 6\u001b[0m\n\u001b[0;32m      3\u001b[0m optimizer \u001b[38;5;241m=\u001b[39m optim\u001b[38;5;241m.\u001b[39mAdam(net\u001b[38;5;241m.\u001b[39mparameters(), lr\u001b[38;5;241m=\u001b[39m\u001b[38;5;241m0.001\u001b[39m)\n\u001b[0;32m      4\u001b[0m loss_function \u001b[38;5;241m=\u001b[39m nn\u001b[38;5;241m.\u001b[39mMSELoss()\n\u001b[1;32m----> 6\u001b[0m X \u001b[38;5;241m=\u001b[39m torch\u001b[38;5;241m.\u001b[39mTensor([i[\u001b[38;5;241m0\u001b[39m] \u001b[38;5;28;01mfor\u001b[39;00m i \u001b[38;5;129;01min\u001b[39;00m \u001b[43mtraining_data\u001b[49m])\u001b[38;5;241m.\u001b[39mview(\u001b[38;5;241m-\u001b[39m\u001b[38;5;241m1\u001b[39m,\u001b[38;5;241m50\u001b[39m,\u001b[38;5;241m50\u001b[39m)\n\u001b[0;32m      7\u001b[0m \u001b[38;5;66;03m# reshaped the data\u001b[39;00m\n\u001b[0;32m      8\u001b[0m X \u001b[38;5;241m=\u001b[39m X\u001b[38;5;241m/\u001b[39m\u001b[38;5;241m255.0\u001b[39m\n",
      "\u001b[1;31mNameError\u001b[0m: name 'training_data' is not defined"
     ]
    }
   ],
   "source": [
    "import torch.optim as optim\n",
    "\n",
    "optimizer = optim.Adam(net.parameters(), lr=0.001)\n",
    "loss_function = nn.MSELoss()\n",
    "\n",
    "X = torch.Tensor([i[0] for i in training_data]).view(-1,50,50)\n",
    "# reshaped the data\n",
    "X = X/255.0\n",
    "# scalinng the images\n",
    "y = torch.Tensor([i[1] for i in training_data])\n",
    "\n",
    "# splitting training/testing data\n",
    "VAL_PCT = 0.1\n",
    "val_size = int(len(X)*VAL_PCT)\n",
    "print(val_size)"
   ]
  },
  {
   "cell_type": "code",
   "execution_count": 63,
   "id": "87d46932-910c-4be0-9ca4-fde9b24fe3a6",
   "metadata": {},
   "outputs": [
    {
     "ename": "NameError",
     "evalue": "name 'val_size' is not defined",
     "output_type": "error",
     "traceback": [
      "\u001b[1;31m---------------------------------------------------------------------------\u001b[0m",
      "\u001b[1;31mNameError\u001b[0m                                 Traceback (most recent call last)",
      "Cell \u001b[1;32mIn[63], line 1\u001b[0m\n\u001b[1;32m----> 1\u001b[0m train_X \u001b[38;5;241m=\u001b[39m X[: \u001b[38;5;241m-\u001b[39m\u001b[43mval_size\u001b[49m]\n\u001b[0;32m      2\u001b[0m train_y \u001b[38;5;241m=\u001b[39m y[: \u001b[38;5;241m-\u001b[39mval_size]\n\u001b[0;32m      4\u001b[0m test_X \u001b[38;5;241m=\u001b[39m X[\u001b[38;5;241m-\u001b[39mval_size:]\n",
      "\u001b[1;31mNameError\u001b[0m: name 'val_size' is not defined"
     ]
    }
   ],
   "source": [
    "train_X = X[: -val_size]\n",
    "train_y = y[: -val_size]\n",
    "\n",
    "test_X = X[-val_size:]\n",
    "test_y = y[-val_size:]\n",
    "\n",
    "print(len(train_X))\n",
    "print(len(test_X))"
   ]
  },
  {
   "cell_type": "code",
   "execution_count": 64,
   "id": "f7b69882-9af7-44b0-ac7c-a2e7838bbadf",
   "metadata": {},
   "outputs": [
    {
     "ename": "NameError",
     "evalue": "name 'tqdm' is not defined",
     "output_type": "error",
     "traceback": [
      "\u001b[1;31m---------------------------------------------------------------------------\u001b[0m",
      "\u001b[1;31mNameError\u001b[0m                                 Traceback (most recent call last)",
      "Cell \u001b[1;32mIn[64], line 5\u001b[0m\n\u001b[0;32m      2\u001b[0m EPOCHS \u001b[38;5;241m=\u001b[39m \u001b[38;5;241m1\u001b[39m\n\u001b[0;32m      4\u001b[0m \u001b[38;5;28;01mfor\u001b[39;00m epoch \u001b[38;5;129;01min\u001b[39;00m \u001b[38;5;28mrange\u001b[39m(EPOCHS):\n\u001b[1;32m----> 5\u001b[0m     \u001b[38;5;28;01mfor\u001b[39;00m i \u001b[38;5;129;01min\u001b[39;00m \u001b[43mtqdm\u001b[49m(\u001b[38;5;28mrange\u001b[39m(\u001b[38;5;241m0\u001b[39m, \u001b[38;5;28mlen\u001b[39m(train_X), BATCH_SIZE)):\n\u001b[0;32m      6\u001b[0m         \u001b[38;5;66;03m# print(i, i+BATCH_SIZE)\u001b[39;00m\n\u001b[0;32m      8\u001b[0m         batch_X \u001b[38;5;241m=\u001b[39m train_X[i:i\u001b[38;5;241m+\u001b[39mBATCH_SIZE]\u001b[38;5;241m.\u001b[39mview(\u001b[38;5;241m-\u001b[39m\u001b[38;5;241m1\u001b[39m, \u001b[38;5;241m1\u001b[39m, \u001b[38;5;241m50\u001b[39m, \u001b[38;5;241m50\u001b[39m)\n\u001b[0;32m      9\u001b[0m         batch_y \u001b[38;5;241m=\u001b[39m train_y[i:i\u001b[38;5;241m+\u001b[39mBATCH_SIZE]\n",
      "\u001b[1;31mNameError\u001b[0m: name 'tqdm' is not defined"
     ]
    }
   ],
   "source": [
    "BATCH_SIZE = 100\n",
    "EPOCHS = 1\n",
    "\n",
    "for epoch in range(EPOCHS):\n",
    "    for i in tqdm(range(0, len(train_X), BATCH_SIZE)):\n",
    "        # print(i, i+BATCH_SIZE)\n",
    "\n",
    "        batch_X = train_X[i:i+BATCH_SIZE].view(-1, 1, 50, 50)\n",
    "        batch_y = train_y[i:i+BATCH_SIZE]\n",
    "\n",
    "        net.zero_grad()\n",
    "        # can use optimizer.zero... \n",
    "        # depending on no of models or no of optimizers being used\n",
    "\n",
    "        outputs = net(batch_X)\n",
    "        loss = loss_function(outputs, batch_y)\n",
    "        loss.backward()\n",
    "        optimizer.step()\n",
    "\n",
    "print(loss)"
   ]
  },
  {
   "cell_type": "code",
   "execution_count": 65,
   "id": "5c6c0ba7-aeb8-439e-bf44-a65c61d82f4b",
   "metadata": {},
   "outputs": [
    {
     "ename": "NameError",
     "evalue": "name 'tqdm' is not defined",
     "output_type": "error",
     "traceback": [
      "\u001b[1;31m---------------------------------------------------------------------------\u001b[0m",
      "\u001b[1;31mNameError\u001b[0m                                 Traceback (most recent call last)",
      "Cell \u001b[1;32mIn[65], line 6\u001b[0m\n\u001b[0;32m      4\u001b[0m total \u001b[38;5;241m=\u001b[39m \u001b[38;5;241m0\u001b[39m\n\u001b[0;32m      5\u001b[0m \u001b[38;5;28;01mwith\u001b[39;00m torch\u001b[38;5;241m.\u001b[39mno_grad():\n\u001b[1;32m----> 6\u001b[0m     \u001b[38;5;28;01mfor\u001b[39;00m i \u001b[38;5;129;01min\u001b[39;00m \u001b[43mtqdm\u001b[49m (\u001b[38;5;28mrange\u001b[39m(\u001b[38;5;28mlen\u001b[39m(test_X))):\n\u001b[0;32m      7\u001b[0m         real_class \u001b[38;5;241m=\u001b[39m torch\u001b[38;5;241m.\u001b[39margmax(test_y[i])\n\u001b[0;32m      8\u001b[0m         net_out \u001b[38;5;241m=\u001b[39m net(test_X[i]\u001b[38;5;241m.\u001b[39mview(\u001b[38;5;241m-\u001b[39m\u001b[38;5;241m1\u001b[39m, \u001b[38;5;241m1\u001b[39m, \u001b[38;5;241m50\u001b[39m, \u001b[38;5;241m50\u001b[39m))[\u001b[38;5;241m0\u001b[39m]\n",
      "\u001b[1;31mNameError\u001b[0m: name 'tqdm' is not defined"
     ]
    }
   ],
   "source": [
    "# prediction\n",
    "\n",
    "correct = 0\n",
    "total = 0\n",
    "with torch.no_grad():\n",
    "    for i in tqdm (range(len(test_X))):\n",
    "        real_class = torch.argmax(test_y[i])\n",
    "        net_out = net(test_X[i].view(-1, 1, 50, 50))[0]\n",
    "        predicted_class = torch.argmax(net_out)\n",
    "\n",
    "        if predicted_class == real_class:\n",
    "            correct += 1\n",
    "        total += 1\n",
    "\n",
    "print(\"Accuracy: \", round(correct/total, 3))"
   ]
  },
  {
   "cell_type": "markdown",
   "id": "1300a2f0-f7c4-49e7-85a7-794fa0b6eee6",
   "metadata": {},
   "source": [
    "### Video 7/8\n",
    "for GPU"
   ]
  },
  {
   "cell_type": "markdown",
   "id": "dd9dc852-9674-45bd-891e-9255cd05f898",
   "metadata": {},
   "source": [
    "### Video 8/8 - basic model analysis"
   ]
  },
  {
   "cell_type": "code",
   "execution_count": 66,
   "id": "cb80335f-ad85-480d-b0d4-1fab7b24a1b7",
   "metadata": {},
   "outputs": [],
   "source": [
    "# testing\n",
    "\n",
    "def fwd_pass(X, y, train=False):\n",
    "    if train:\n",
    "        net.zero_grad()\n",
    "    outputs = net(X)\n",
    "\n",
    "    # calculating accuracy\n",
    "    matches = [torch.argmax(i) == torch.argmax(j) for i,j, in zip(outputs,y)]\n",
    "    acc = matches.count(True) / len(matches)\n",
    "    loss = loss_function(outputs, y)\n",
    "\n",
    "    if train:\n",
    "        loss.backward()\n",
    "        optimizer.step()\n",
    "    \n",
    "    return acc, loss"
   ]
  },
  {
   "cell_type": "code",
   "execution_count": 67,
   "id": "690ae8f2-6a9a-4ee9-b9f0-18e25c65b582",
   "metadata": {},
   "outputs": [
    {
     "ename": "NameError",
     "evalue": "name 'test_X' is not defined",
     "output_type": "error",
     "traceback": [
      "\u001b[1;31m---------------------------------------------------------------------------\u001b[0m",
      "\u001b[1;31mNameError\u001b[0m                                 Traceback (most recent call last)",
      "Cell \u001b[1;32mIn[67], line 8\u001b[0m\n\u001b[0;32m      5\u001b[0m         val_acc, val_loss \u001b[38;5;241m=\u001b[39m fwd_pass(X\u001b[38;5;241m.\u001b[39mview(\u001b[38;5;241m-\u001b[39m\u001b[38;5;241m1\u001b[39m, \u001b[38;5;241m1\u001b[39m, \u001b[38;5;241m50\u001b[39m, \u001b[38;5;241m50\u001b[39m), y)\n\u001b[0;32m      6\u001b[0m     \u001b[38;5;28;01mreturn\u001b[39;00m val_acc, val_loss\n\u001b[1;32m----> 8\u001b[0m val_acc, val_loss \u001b[38;5;241m=\u001b[39m \u001b[43mtest\u001b[49m\u001b[43m(\u001b[49m\u001b[43msize\u001b[49m\u001b[38;5;241;43m=\u001b[39;49m\u001b[38;5;241;43m32\u001b[39;49m\u001b[43m)\u001b[49m\n\u001b[0;32m      9\u001b[0m \u001b[38;5;28mprint\u001b[39m(val_acc, val_loss)\n",
      "Cell \u001b[1;32mIn[67], line 2\u001b[0m, in \u001b[0;36mtest\u001b[1;34m(size)\u001b[0m\n\u001b[0;32m      1\u001b[0m \u001b[38;5;28;01mdef\u001b[39;00m \u001b[38;5;21mtest\u001b[39m(size\u001b[38;5;241m=\u001b[39m\u001b[38;5;241m32\u001b[39m):\n\u001b[1;32m----> 2\u001b[0m     random_start \u001b[38;5;241m=\u001b[39m np\u001b[38;5;241m.\u001b[39mrandom\u001b[38;5;241m.\u001b[39mrandint(\u001b[38;5;28mlen\u001b[39m(\u001b[43mtest_X\u001b[49m) \u001b[38;5;241m-\u001b[39m size)\n\u001b[0;32m      3\u001b[0m     X, y, \u001b[38;5;241m=\u001b[39m test_X[random_start : random_start \u001b[38;5;241m+\u001b[39m size], test_y[random_start : random_start \u001b[38;5;241m+\u001b[39m size]\n\u001b[0;32m      4\u001b[0m     \u001b[38;5;28;01mwith\u001b[39;00m torch\u001b[38;5;241m.\u001b[39mno_grad():\n",
      "\u001b[1;31mNameError\u001b[0m: name 'test_X' is not defined"
     ]
    }
   ],
   "source": [
    "def test(size=32):\n",
    "    random_start = np.random.randint(len(test_X) - size)\n",
    "    X, y, = test_X[random_start : random_start + size], test_y[random_start : random_start + size]\n",
    "    with torch.no_grad():\n",
    "        val_acc, val_loss = fwd_pass(X.view(-1, 1, 50, 50), y)\n",
    "    return val_acc, val_loss\n",
    "\n",
    "val_acc, val_loss = test(size=32)\n",
    "print(val_acc, val_loss)"
   ]
  },
  {
   "cell_type": "code",
   "execution_count": 72,
   "id": "55e37453-185a-4a6b-a42b-1366c3e8068f",
   "metadata": {},
   "outputs": [
    {
     "name": "stdout",
     "output_type": "stream",
     "text": [
      "torch.Size([128, 2, 2])\n",
      "model-1726841944\n"
     ]
    },
    {
     "ename": "NameError",
     "evalue": "name 'tqdm' is not defined",
     "output_type": "error",
     "traceback": [
      "\u001b[1;31m---------------------------------------------------------------------------\u001b[0m",
      "\u001b[1;31mNameError\u001b[0m                                 Traceback (most recent call last)",
      "Cell \u001b[1;32mIn[72], line 25\u001b[0m\n\u001b[0;32m     22\u001b[0m                     val_acc, val_loss \u001b[38;5;241m=\u001b[39m test(size\u001b[38;5;241m=\u001b[39m\u001b[38;5;241m100\u001b[39m)\n\u001b[0;32m     23\u001b[0m                     f\u001b[38;5;241m.\u001b[39mwrite(\u001b[38;5;124mf\u001b[39m\u001b[38;5;124m\"\u001b[39m\u001b[38;5;132;01m{\u001b[39;00mMODEL_NAME\u001b[38;5;132;01m}\u001b[39;00m\u001b[38;5;124m.\u001b[39m\u001b[38;5;132;01m{\u001b[39;00m\u001b[38;5;28mround\u001b[39m(time\u001b[38;5;241m.\u001b[39mtime(),\u001b[38;5;241m3\u001b[39m)\u001b[38;5;132;01m}\u001b[39;00m\u001b[38;5;124m,\u001b[39m\u001b[38;5;132;01m{\u001b[39;00m\u001b[38;5;28mround\u001b[39m(\u001b[38;5;28mfloat\u001b[39m(acc),\u001b[38;5;241m2\u001b[39m)\u001b[38;5;132;01m}\u001b[39;00m\u001b[38;5;124m,\u001b[39m\u001b[38;5;132;01m{\u001b[39;00m\u001b[38;5;28mround\u001b[39m(\u001b[38;5;28mfloat\u001b[39m(loss),\u001b[38;5;241m4\u001b[39m)\u001b[38;5;132;01m}\u001b[39;00m\u001b[38;5;124m,\u001b[39m\u001b[38;5;132;01m{\u001b[39;00m\u001b[38;5;28mround\u001b[39m(\u001b[38;5;28mfloat\u001b[39m(val_acc),\u001b[38;5;241m2\u001b[39m)\u001b[38;5;132;01m}\u001b[39;00m\u001b[38;5;124m,\u001b[39m\u001b[38;5;132;01m{\u001b[39;00m\u001b[38;5;28mround\u001b[39m(\u001b[38;5;28mfloat\u001b[39m(val_loss),\u001b[38;5;241m4\u001b[39m)\u001b[38;5;132;01m}\u001b[39;00m\u001b[38;5;130;01m\\n\u001b[39;00m\u001b[38;5;124m\"\u001b[39m)\n\u001b[1;32m---> 25\u001b[0m \u001b[43mtrain\u001b[49m\u001b[43m(\u001b[49m\u001b[43m)\u001b[49m\n",
      "Cell \u001b[1;32mIn[72], line 16\u001b[0m, in \u001b[0;36mtrain\u001b[1;34m()\u001b[0m\n\u001b[0;32m     14\u001b[0m \u001b[38;5;28;01mwith\u001b[39;00m \u001b[38;5;28mopen\u001b[39m(\u001b[38;5;124m\"\u001b[39m\u001b[38;5;124mmodel.log\u001b[39m\u001b[38;5;124m\"\u001b[39m, \u001b[38;5;124m\"\u001b[39m\u001b[38;5;124ma\u001b[39m\u001b[38;5;124m\"\u001b[39m) \u001b[38;5;28;01mas\u001b[39;00m f:\n\u001b[0;32m     15\u001b[0m     \u001b[38;5;28;01mfor\u001b[39;00m epoch \u001b[38;5;129;01min\u001b[39;00m \u001b[38;5;28mrange\u001b[39m(EPOCHS):\n\u001b[1;32m---> 16\u001b[0m         \u001b[38;5;28;01mfor\u001b[39;00m i \u001b[38;5;129;01min\u001b[39;00m \u001b[43mtqdm\u001b[49m(\u001b[38;5;28mrange\u001b[39m(\u001b[38;5;241m0\u001b[39m, \u001b[38;5;28mlen\u001b[39m(train_X), BATCH_SIZE)):\n\u001b[0;32m     17\u001b[0m             batch_X \u001b[38;5;241m=\u001b[39m train_X[i:i\u001b[38;5;241m+\u001b[39mBATCH_SIZE]\u001b[38;5;241m.\u001b[39mview(\u001b[38;5;241m-\u001b[39m\u001b[38;5;241m1\u001b[39m, \u001b[38;5;241m1\u001b[39m, \u001b[38;5;241m50\u001b[39m, \u001b[38;5;241m50\u001b[39m)\n\u001b[0;32m     18\u001b[0m             batch_y \u001b[38;5;241m=\u001b[39m train_y[i:i\u001b[38;5;241m+\u001b[39mBATCH_SIZE]\n",
      "\u001b[1;31mNameError\u001b[0m: name 'tqdm' is not defined"
     ]
    }
   ],
   "source": [
    "import time\n",
    "\n",
    "MODEL_NAME = f\"model-{int(time.time())}\"\n",
    "\n",
    "net = Net()\n",
    "optimizer = optim.Adam(net.parameters(), lr=0.001)\n",
    "loss_function = nn.MSELoss()\n",
    "\n",
    "print(MODEL_NAME)\n",
    "\n",
    "def train():\n",
    "    BATCH_SIZE = 100\n",
    "    EPOCHS = 5\n",
    "    with open(\"model.log\", \"a\") as f:\n",
    "        for epoch in range(EPOCHS):\n",
    "            for i in tqdm(range(0, len(train_X), BATCH_SIZE)):\n",
    "                batch_X = train_X[i:i+BATCH_SIZE].view(-1, 1, 50, 50)\n",
    "                batch_y = train_y[i:i+BATCH_SIZE]\n",
    "\n",
    "                acc, loss = fwd_pass(batch_X, batch_y, train=True)\n",
    "                if i % 50 == 0:\n",
    "                    val_acc, val_loss = test(size=100)\n",
    "                    f.write(f\"{MODEL_NAME}.{round(time.time(),3)},{round(float(acc),2)},{round(float(loss),4)},{round(float(val_acc),2)},{round(float(val_loss),4)}\\n\")\n",
    "\n",
    "train()"
   ]
  },
  {
   "cell_type": "code",
   "execution_count": 70,
   "id": "c0363ac6-2120-434c-8148-e1fe0e1b620d",
   "metadata": {},
   "outputs": [
    {
     "ename": "FileNotFoundError",
     "evalue": "[Errno 2] No such file or directory: 'model.log'",
     "output_type": "error",
     "traceback": [
      "\u001b[1;31m---------------------------------------------------------------------------\u001b[0m",
      "\u001b[1;31mFileNotFoundError\u001b[0m                         Traceback (most recent call last)",
      "Cell \u001b[1;32mIn[70], line 43\u001b[0m\n\u001b[0;32m     39\u001b[0m     ax2\u001b[38;5;241m.\u001b[39mlegend(loc\u001b[38;5;241m=\u001b[39m\u001b[38;5;241m2\u001b[39m)\n\u001b[0;32m     41\u001b[0m     plt\u001b[38;5;241m.\u001b[39mshow()\n\u001b[1;32m---> 43\u001b[0m \u001b[43mcreate_acc_loss_graph\u001b[49m\u001b[43m(\u001b[49m\u001b[43mmodel_name\u001b[49m\u001b[43m)\u001b[49m\n",
      "Cell \u001b[1;32mIn[70], line 9\u001b[0m, in \u001b[0;36mcreate_acc_loss_graph\u001b[1;34m(model_name)\u001b[0m\n\u001b[0;32m      8\u001b[0m \u001b[38;5;28;01mdef\u001b[39;00m \u001b[38;5;21mcreate_acc_loss_graph\u001b[39m(model_name):\n\u001b[1;32m----> 9\u001b[0m     contents \u001b[38;5;241m=\u001b[39m \u001b[38;5;28;43mopen\u001b[39;49m\u001b[43m(\u001b[49m\u001b[38;5;124;43m\"\u001b[39;49m\u001b[38;5;124;43mmodel.log\u001b[39;49m\u001b[38;5;124;43m\"\u001b[39;49m\u001b[43m,\u001b[49m\u001b[43m \u001b[49m\u001b[38;5;124;43m\"\u001b[39;49m\u001b[38;5;124;43mr\u001b[39;49m\u001b[38;5;124;43m\"\u001b[39;49m\u001b[43m)\u001b[49m\u001b[38;5;241m.\u001b[39mread()\u001b[38;5;241m.\u001b[39msplit(\u001b[38;5;124m'\u001b[39m\u001b[38;5;130;01m\\n\u001b[39;00m\u001b[38;5;124m'\u001b[39m)\n\u001b[0;32m     11\u001b[0m     times \u001b[38;5;241m=\u001b[39m []\n\u001b[0;32m     12\u001b[0m     accuracies \u001b[38;5;241m=\u001b[39m []\n",
      "File \u001b[1;32m~\\miniconda3\\envs\\ml_project_env\\lib\\site-packages\\IPython\\core\\interactiveshell.py:286\u001b[0m, in \u001b[0;36m_modified_open\u001b[1;34m(file, *args, **kwargs)\u001b[0m\n\u001b[0;32m    279\u001b[0m \u001b[38;5;28;01mif\u001b[39;00m file \u001b[38;5;129;01min\u001b[39;00m {\u001b[38;5;241m0\u001b[39m, \u001b[38;5;241m1\u001b[39m, \u001b[38;5;241m2\u001b[39m}:\n\u001b[0;32m    280\u001b[0m     \u001b[38;5;28;01mraise\u001b[39;00m \u001b[38;5;167;01mValueError\u001b[39;00m(\n\u001b[0;32m    281\u001b[0m         \u001b[38;5;124mf\u001b[39m\u001b[38;5;124m\"\u001b[39m\u001b[38;5;124mIPython won\u001b[39m\u001b[38;5;124m'\u001b[39m\u001b[38;5;124mt let you open fd=\u001b[39m\u001b[38;5;132;01m{\u001b[39;00mfile\u001b[38;5;132;01m}\u001b[39;00m\u001b[38;5;124m by default \u001b[39m\u001b[38;5;124m\"\u001b[39m\n\u001b[0;32m    282\u001b[0m         \u001b[38;5;124m\"\u001b[39m\u001b[38;5;124mas it is likely to crash IPython. If you know what you are doing, \u001b[39m\u001b[38;5;124m\"\u001b[39m\n\u001b[0;32m    283\u001b[0m         \u001b[38;5;124m\"\u001b[39m\u001b[38;5;124myou can use builtins\u001b[39m\u001b[38;5;124m'\u001b[39m\u001b[38;5;124m open.\u001b[39m\u001b[38;5;124m\"\u001b[39m\n\u001b[0;32m    284\u001b[0m     )\n\u001b[1;32m--> 286\u001b[0m \u001b[38;5;28;01mreturn\u001b[39;00m io_open(file, \u001b[38;5;241m*\u001b[39margs, \u001b[38;5;241m*\u001b[39m\u001b[38;5;241m*\u001b[39mkwargs)\n",
      "\u001b[1;31mFileNotFoundError\u001b[0m: [Errno 2] No such file or directory: 'model.log'"
     ]
    }
   ],
   "source": [
    "import matplotlib.pyplot as plt\n",
    "from matplotlib import style\n",
    "\n",
    "style.use(\"ggplot\")\n",
    "\n",
    "model_name = \"\"    # (model name from above)\n",
    "\n",
    "def create_acc_loss_graph(model_name):\n",
    "    contents = open(\"model.log\", \"r\").read().split('\\n')\n",
    "\n",
    "    times = []\n",
    "    accuracies = []\n",
    "    losses = []\n",
    "    val_accs = []\n",
    "    val_losses = []\n",
    "\n",
    "    for c in contents:\n",
    "        if model_name in c:\n",
    "            name, timestamp, acc, loss, val_acc, val_loss = c.split(\",\")\n",
    "            \n",
    "            times.append(float(timestamp))\n",
    "            accuracies.append(float(acc))\n",
    "            losses.append(float(loss))\n",
    "\n",
    "            val_accs.append(float(val_acc))\n",
    "            val_losses.append(float(val_loss))\n",
    "\n",
    "    fig = plt.figure()\n",
    "\n",
    "    ax1 = plt.subplot2grid((2,1), (0,0))\n",
    "    ax2 = plt.subplot2grid((2,1), (0,0), sharex=ax1)\n",
    "\n",
    "    ax1.plot(times, accuracies, label=\"acc\")\n",
    "    ax1.plot(times, val_accs, label=\"val_acc\")\n",
    "    ax1.legend(loc=2)\n",
    "\n",
    "    ax2.plot(times, losses, label=\"loss\")\n",
    "    ax2.plot(times, val_losses, label=\"val_loss\")\n",
    "    ax2.legend(loc=2)\n",
    "\n",
    "    plt.show()\n",
    "\n",
    "create_acc_loss_graph(model_name)"
   ]
  },
  {
   "cell_type": "code",
   "execution_count": null,
   "id": "72bdcd9e-e63e-49e8-9ee8-0e770e9e00cb",
   "metadata": {},
   "outputs": [],
   "source": []
  }
 ],
 "metadata": {
  "kernelspec": {
   "display_name": "ML Project Env",
   "language": "python",
   "name": "ml_project_env"
  },
  "language_info": {
   "codemirror_mode": {
    "name": "ipython",
    "version": 3
   },
   "file_extension": ".py",
   "mimetype": "text/x-python",
   "name": "python",
   "nbconvert_exporter": "python",
   "pygments_lexer": "ipython3",
   "version": "3.9.19"
  }
 },
 "nbformat": 4,
 "nbformat_minor": 5
}
